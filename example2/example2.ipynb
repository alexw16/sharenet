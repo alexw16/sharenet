{
 "cells": [
  {
   "cell_type": "markdown",
   "metadata": {},
   "source": [
    "# Example 2: mouse blood lineage networks\n",
    "A pipeline providing an example of ShareNet's usage on a mouse blood lineage dataset is included in the ```~/sharenet/example2``` subdirectory. Here, we go through the different steps associated with this pipeline."
   ]
  },
  {
   "cell_type": "code",
   "execution_count": 1,
   "metadata": {},
   "outputs": [],
   "source": [
    "%matplotlib inline\n",
    "import os\n",
    "import numpy as np\n",
    "import matplotlib.pyplot as plt\n",
    "import numpy as np\n",
    "import seaborn as sns\n",
    "import pandas as pd"
   ]
  },
  {
   "cell_type": "code",
   "execution_count": 2,
   "metadata": {},
   "outputs": [],
   "source": [
    "def convert_method_name(name):\n",
    "    method_dict = {'genie': 'GENIE3','pidc':'PIDC','corr': 'Pearson','gaussian': 'BVS'}\n",
    "    for m in method_dict.keys():\n",
    "        if m in name:\n",
    "            new_name = method_dict[m]\n",
    "    return new_name\n",
    "\n",
    "def convert_dataset_name(name):\n",
    "    if 'nonspecific' in name:\n",
    "        return 'Non-Specific ChIP'\n",
    "    elif 'specific' in name:\n",
    "        return 'Specific ChIP'\n",
    "    elif 'STRING' in name:\n",
    "        return 'STRING'"
   ]
  },
  {
   "cell_type": "markdown",
   "metadata": {},
   "source": [
    "## Running ShareNet"
   ]
  },
  {
   "cell_type": "markdown",
   "metadata": {},
   "source": [
    "A Bash script, named ```run_example2.sh```, is included in ```~/sharenet/example2``` subdirectory. This script runs the below command, which fits the ShareNet model to the set of networks inferred using PIDC in the mouse blood lineage dataset. The input data required to perform this step (i.e. the initial network estimates and the network edge score standard deviation estimates) are provided in the ```~/sharenet/example2/data``` subdirectory.\n",
    "\n",
    "```\n",
    "python -u \"${script_dir}/sharenet_example2.py\" -d $data_dir -r $results_dir -f \"pidc.edges.txt.gz\" -sf \"pidc.edges.txt.gz\" -K 24 -nc 10 -tol 0.01\n",
    "```\n",
    "\n",
    "A description of the various flags used in this command are as follows.  \n",
    "- ```-d```: data directory (path to the directory that includes the initial network estimates and standard deviation estimates)  \n",
    "- ```-r```: results directory (path to the directory where the revised network edge scores and other variational parameters are to be written)\n",
    "- ```-f```: file name for the initial network estimates (suffix of the file names for the initial network estimates; in this example, the file names are in the format \"cluster{cluster_no}.pidc.edges.txt.gz\")  \n",
    "- ```-sf```: file name for the standard deviation estimates (suffix of the file names for the standard deviation estimates; in this example, the file names are in the format \"V.cluster{cluster_no}.pidc.edges.txt.gz\")  \n",
    "- ```-K```: number of cell types to consider from the dataset (in this example, the mouse blood lineage dataset contains 24 clusters, or cell types)  \n",
    "- ```-nc```: number of mixture components in the ShareNet model  \n",
    "- ```-K```: number of cell types to consider from the dataset (in this example, the mouse blood lineage dataset contains 24 clusters, or cell types)  \n",
    "- ```-tol```: tolerance criterion for convergence  "
   ]
  },
  {
   "cell_type": "markdown",
   "metadata": {},
   "source": [
    "## Evaluating Accuracy\n",
    "We also include a Bash script to calculate the accuracy of the baseline PIDC networks and the networks inferred using ShareNet applied to the initial PIDC networks. The script writes the accuracy results to a separate subdirectory ```~/sharenet/example2/accuracy``` using the set of reference networks that can be found in ```~/sharenet/example2/reference```.  \n",
    "\n",
    "Here is an example of one command in this script.  \n",
    "```python -u \"${script_dir}/sharenet_accuracy.py\" -d $base_dir -r $results_dir -K 24 -f $file_name -rn \"STRING\"```\n",
    "\n",
    "The various flags used in this command are as follows.  \n",
    "- ```-d```: base data directory (path to the base directory that includes the ```/reference/``` subdirectory and where the ```/accuracy/``` subdirectory will be written)  \n",
    "- ```-r```: results directory (path to the directory where the revised network edge scores and other variational parameters are to be written)\n",
    "- ```-K```: number of cell types to consider from the dataset (in this example, the mouse blood lineage dataset contains 24 clusters, or cell types)  \n",
    "- ```-f```: file name for the initial network estimates (suffix of the file names for the initial network estimates; in this example, the file names are in the format \"cluster{cluster_no}.pidc.edges.txt.gz\")  \n",
    "- ```-rn```: reference network (reference network against which the inferrred networks are to be compared)  "
   ]
  },
  {
   "cell_type": "markdown",
   "metadata": {},
   "source": []
  },
  {
   "cell_type": "markdown",
   "metadata": {},
   "source": [
    "## Plot Results\n",
    "\n",
    "After running the scripts for ShareNet and calculating the network accuracy results, plots used to compare the accuracy of networks inferred with and without ShareNet can be generated with the code below. \n",
    "\n",
    "### AUPRC Ratio: With vs. Without ShareNet"
   ]
  },
  {
   "cell_type": "code",
   "execution_count": 4,
   "metadata": {},
   "outputs": [],
   "source": [
    "data_dir = '../sharenet/example2/reference'\n",
    "baseline_df = pd.read_csv(os.path.join(data_dir,'baseline_auprc.csv'))\n",
    "baseline_df.index = baseline_df['ref_network'].values"
   ]
  },
  {
   "cell_type": "code",
   "execution_count": 9,
   "metadata": {},
   "outputs": [
    {
     "data": {
      "image/png": "[encoded data removed]",
      "text/plain": [
       "<Figure size 288x288 with 1 Axes>"
      ]
     },
     "metadata": {
      "needs_background": "light"
     },
     "output_type": "display_data"
    }
   ],
   "source": [
    "from scipy.stats import wilcoxon\n",
    "                     \n",
    "results_dir = '../sharenet/example2/accuracy'\n",
    "\n",
    "method = 'sharenet.nc10'\n",
    "measure = 'auprc'\n",
    "\n",
    "base_method_list = ['pidc.edges']\n",
    "df_list = []\n",
    "for base_method in base_method_list:\n",
    "    for ref_network in ['nonspecific_chip','STRING','specific_chip']:\n",
    "        file_name = '{}.{}.csv'.format(ref_network,base_method)\n",
    "        df = pd.read_csv(os.path.join(results_dir,file_name))\n",
    "        df['method'] = base_method\n",
    "        df['ref_network'] = ref_network\n",
    "        df_list.append(df)\n",
    "noshare_df = pd.concat(df_list)\n",
    "\n",
    "df_list = []\n",
    "for base_method in base_method_list:\n",
    "    for ref_network in ['nonspecific_chip','STRING','specific_chip']:\n",
    "        file_name = '{}.{}.{}.csv'.format(ref_network,method,base_method)\n",
    "        df = pd.read_csv(os.path.join(results_dir,file_name))\n",
    "        df['method'] = base_method\n",
    "        df['ref_network'] = ref_network\n",
    "        df_list.append(df)\n",
    "share_df = pd.concat(df_list)\n",
    "\n",
    "for base_method in base_method_list:\n",
    "    data_dict = {'x1': [],'x2': [],'ref_network': [],'cluster_no': []}\n",
    "    cluster_no_list = sorted(list(set(share_df[share_df['ref_network'] == ref_network]['cluster_no'])))\n",
    "    for ref_network in ['nonspecific_chip','STRING','specific_chip']:\n",
    "        for cluster_no in cluster_no_list:\n",
    "            noshare_cond = (noshare_df['cluster_no'] == cluster_no) & \\\n",
    "                (noshare_df['ref_network'] == ref_network) & \\\n",
    "                (noshare_df['method'] == base_method)\n",
    "            share_cond = (share_df['cluster_no'] == cluster_no) & \\\n",
    "                (share_df['ref_network'] == ref_network) & \\\n",
    "                (share_df['method'] == base_method)\n",
    "            \n",
    "            noshare_val = noshare_df[noshare_cond][measure].values[0]\n",
    "            share_val = share_df[share_cond][measure].values[0]\n",
    "\n",
    "            if ref_network in ['nonspecific_chip','STRING']:\n",
    "                baseline_auprc = baseline_df.loc[ref_network]['auprc']\n",
    "            else:\n",
    "                baseline_auprc = baseline_df.loc['{}_specific_chip'.format(cluster_no)]['auprc']\n",
    "                \n",
    "            data_dict['x1'].append(noshare_val/baseline_auprc)\n",
    "            data_dict['x2'].append(share_val/baseline_auprc)\n",
    "            data_dict['cluster_no'].append(cluster_no)\n",
    "            data_dict['ref_network'].append(ref_network)\n",
    "    df = pd.DataFrame(data_dict)\n",
    "    df['ref_network'] = [convert_dataset_name(m) for m in df['ref_network']]\n",
    "    \n",
    "    plt.figure(figsize=(4,4))\n",
    "    plt.plot(np.linspace(0,50),np.linspace(0,50),c='black',linestyle='--',lw=0.5)\n",
    "    \n",
    "    sns.scatterplot(x='x1',y='x2',data=df,hue='ref_network')\n",
    "    \n",
    "    min_x = min(df['x1'].min(),df['x2'].min())\n",
    "    max_x = max(df['x1'].max(),df['x2'].max())\n",
    "\n",
    "    plt.xlim(min_x*0.99,max_x*1.01)\n",
    "    plt.ylim(min_x*0.99,max_x*1.01)\n",
    "    plt.xlabel(measure.upper() + ' Ratio\\n (without ShareNet)',fontsize=16)\n",
    "    plt.ylabel(measure.upper() + ' Ratio\\n (with ShareNet)',fontsize=16)\n",
    "    plt.title(convert_method_name(base_method.split('.')[0]),fontsize=16)\n",
    "    \n",
    "    lg = plt.legend(fontsize=16,bbox_to_anchor=(1,1),markerscale=2)\n",
    "    lg.remove()\n",
    "    plt.show()"
   ]
  },
  {
   "cell_type": "markdown",
   "metadata": {},
   "source": [
    "### Wilcoxon Rank-Sum Test "
   ]
  },
  {
   "cell_type": "code",
   "execution_count": 5,
   "metadata": {},
   "outputs": [
    {
     "name": "stdout",
     "output_type": "stream",
     "text": [
      "WilcoxonResult(statistic=1829.0, pvalue=8.570746990858083e-12)\n"
     ]
    }
   ],
   "source": [
    "print(wilcoxon(df['x2'],y=df['x1'],alternative='greater'))"
   ]
  },
  {
   "cell_type": "code",
   "execution_count": null,
   "metadata": {},
   "outputs": [],
   "source": []
  }
 ],
 "metadata": {
  "kernelspec": {
   "display_name": "Python 3",
   "language": "python",
   "name": "python3"
  },
  "language_info": {
   "codemirror_mode": {
    "name": "ipython",
    "version": 3
   },
   "file_extension": ".py",
   "mimetype": "text/x-python",
   "name": "python",
   "nbconvert_exporter": "python",
   "pygments_lexer": "ipython3",
   "version": "3.8.5"
  }
 },
 "nbformat": 4,
 "nbformat_minor": 4
}
