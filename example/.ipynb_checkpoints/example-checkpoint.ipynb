{
 "cells": [
  {
   "cell_type": "markdown",
   "metadata": {},
   "source": [
    "# ShareNet Example Usage"
   ]
  },
  {
   "cell_type": "code",
   "execution_count": 1,
   "metadata": {},
   "outputs": [],
   "source": [
    "%matplotlib inline\n",
    "import os\n",
    "import numpy as np\n",
    "import matplotlib.pyplot as plt\n",
    "import numpy as np\n",
    "import seaborn as sns\n",
    "import pandas as pd\n",
    "import csv\n",
    "        \n",
    "cwd = os.getcwd()\n",
    "os.chdir('..')\n",
    "from utils import *\n",
    "from sharenet import *\n",
    "from sharenet_bvs import *\n",
    "os.chdir(cwd)"
   ]
  },
  {
   "cell_type": "markdown",
   "metadata": {},
   "source": [
    "## ShareNet: Enhancing PIDC Edge Scores\n",
    "### Load Regulator & Target Gene Indices"
   ]
  },
  {
   "cell_type": "code",
   "execution_count": 2,
   "metadata": {},
   "outputs": [],
   "source": [
    "data_dir = './data/'\n",
    "\n",
    "target_inds = np.loadtxt(os.path.join(data_dir,'target_indices.txt'),dtype=int)\n",
    "tf_inds = np.loadtxt(os.path.join(data_dir,'tf_indices.txt'),dtype=int)\n",
    "\n",
    "n_genes = len(set(target_inds.tolist() + tf_inds.tolist()))"
   ]
  },
  {
   "cell_type": "markdown",
   "metadata": {},
   "source": [
    "### Load PIDC Networks"
   ]
  },
  {
   "cell_type": "code",
   "execution_count": 3,
   "metadata": {},
   "outputs": [],
   "source": [
    "from scipy.io import mmread\n",
    "\n",
    "data_dir = './data/'\n",
    "C = 5 # using 5 cell types\n",
    "\n",
    "X = []\n",
    "for celltype_no in range(1,C+1):\n",
    "    file_name = 'celltype{}.pidc.mtx'.format(celltype_no)\n",
    "    network = mmread(os.path.join(data_dir,file_name)).toarray()\n",
    "    X.append(network)"
   ]
  },
  {
   "cell_type": "markdown",
   "metadata": {},
   "source": [
    "### Load PIDC Network Standard Deviations"
   ]
  },
  {
   "cell_type": "code",
   "execution_count": 4,
   "metadata": {},
   "outputs": [],
   "source": [
    "from scipy.io import mmread\n",
    "\n",
    "data_dir = './data/'\n",
    "C = 5 # using 5 cell types\n",
    "\n",
    "V = []\n",
    "for celltype_no in range(1,C+1):\n",
    "    file_name = 'celltype{}.pidc.std.mtx'.format(celltype_no)\n",
    "    network = mmread(os.path.join(data_dir,file_name)).toarray()\n",
    "    V.append(network)"
   ]
  },
  {
   "cell_type": "markdown",
   "metadata": {},
   "source": [
    "### Running ShareNet"
   ]
  },
  {
   "cell_type": "code",
   "execution_count": 5,
   "metadata": {},
   "outputs": [],
   "source": [
    "import sharenet\n",
    "\n",
    "# number of mixture components to use\n",
    "n_components = 10 \n",
    "\n",
    "# initialize ShareNet model\n",
    "model = sharenet.ShareNet(n_components = n_components)"
   ]
  },
  {
   "cell_type": "code",
   "execution_count": 6,
   "metadata": {
    "scrolled": true
   },
   "outputs": [
    {
     "name": "stdout",
     "output_type": "stream",
     "text": [
      "0 0.4515296319220179\n",
      "1 0.5233392123383958\n",
      "2 0.16262972724244285\n",
      "3 0.08593736122410743\n",
      "4 0.05470676538721032\n",
      "5 0.037300880906527646\n",
      "6 0.026949222405003415\n",
      "7 0.0199246491299398\n",
      "8 0.014911412860484157\n",
      "9 0.011275878830143872\n",
      "Time: 49.428 seconds\n"
     ]
    }
   ],
   "source": [
    "# update model parameters using CAVI\n",
    "model.fit(X,V,tol=0.01)"
   ]
  },
  {
   "cell_type": "markdown",
   "metadata": {},
   "source": [
    "### Retrieving Revised Edge Scores"
   ]
  },
  {
   "cell_type": "code",
   "execution_count": 7,
   "metadata": {},
   "outputs": [],
   "source": [
    "revised_X = model.get_revised_edge_scores()"
   ]
  },
  {
   "cell_type": "markdown",
   "metadata": {},
   "source": [
    "### Evaluating Accuracy: AUPRC (using STRING functional network as reference)"
   ]
  },
  {
   "cell_type": "code",
   "execution_count": 8,
   "metadata": {},
   "outputs": [],
   "source": [
    "original_networks = {}\n",
    "for i,celltype_no in enumerate(range(1,C+1)):\n",
    "    original_networks[celltype_no] = X[i]\n",
    "\n",
    "revised_networks = {}\n",
    "for i,celltype_no in enumerate(range(1,C+1)):\n",
    "    revised_networks[celltype_no] = revised_X[i]"
   ]
  },
  {
   "cell_type": "code",
   "execution_count": 9,
   "metadata": {},
   "outputs": [],
   "source": [
    "data_dir = './data/'\n",
    "edge_inds = np.loadtxt(os.path.join(data_dir,'STRING.txt'),delimiter='\\t',dtype=int)\n",
    "\n",
    "ref_network = np.zeros((n_genes,n_genes))\n",
    "ref_network[(edge_inds[:,0],edge_inds[:,1])] = 1\n",
    "ref_network += ref_network.T # symmetrize for STRING PPI interactions\n",
    "ref_network = ref_network.astype(bool).astype(int)\n",
    "ref_network = ref_network[target_inds][:,tf_inds]"
   ]
  },
  {
   "cell_type": "code",
   "execution_count": 10,
   "metadata": {},
   "outputs": [],
   "source": [
    "from sklearn.metrics import average_precision_score\n",
    "\n",
    "data_dict = {'celltype_no': [], 'auprc': []}\n",
    "\n",
    "for celltype_no in range(1,C+1):\n",
    "\n",
    "    y_pred = abs(original_networks[celltype_no].flatten())\n",
    "    y_true = ref_network.flatten()\n",
    "\n",
    "    auprc = average_precision_score(y_true,y_pred)\n",
    "\n",
    "    data_dict['celltype_no'].append(celltype_no)\n",
    "    data_dict['auprc'].append(auprc)\n",
    "\n",
    "original_df = pd.DataFrame(data_dict)"
   ]
  },
  {
   "cell_type": "code",
   "execution_count": 11,
   "metadata": {},
   "outputs": [],
   "source": [
    "from sklearn.metrics import average_precision_score\n",
    "\n",
    "data_dict = {'celltype_no': [], 'auprc': []}\n",
    "\n",
    "for celltype_no in range(1,C+1):\n",
    "\n",
    "    y_pred = abs(revised_networks[celltype_no].flatten())\n",
    "    y_true = ref_network.flatten()\n",
    "\n",
    "    auprc = average_precision_score(y_true,y_pred)\n",
    "\n",
    "    data_dict['celltype_no'].append(celltype_no)\n",
    "    data_dict['auprc'].append(auprc)\n",
    "\n",
    "revised_df = pd.DataFrame(data_dict)"
   ]
  },
  {
   "cell_type": "code",
   "execution_count": 12,
   "metadata": {},
   "outputs": [
    {
     "data": {
      "image/png": "[encoded data removed]",
      "text/plain": [
       "<Figure size 288x360 with 1 Axes>"
      ]
     },
     "metadata": {
      "needs_background": "light"
     },
     "output_type": "display_data"
    }
   ],
   "source": [
    "original_df['method'] = 'PIDC'\n",
    "revised_df['method'] = 'ShareNet-PIDC'\n",
    "\n",
    "plt.figure(figsize=(4,5))\n",
    "df = pd.concat([original_df,revised_df])\n",
    "sns.barplot(x='celltype_no',y='auprc',hue='method',data=df)\n",
    "plt.legend(bbox_to_anchor=(1,1),fontsize=14)\n",
    "plt.xlabel('Cell Type Number',fontsize=16)\n",
    "plt.ylabel('AUPRC',fontsize=16)\n",
    "plt.show()"
   ]
  },
  {
   "cell_type": "code",
   "execution_count": null,
   "metadata": {},
   "outputs": [],
   "source": []
  },
  {
   "cell_type": "code",
   "execution_count": null,
   "metadata": {},
   "outputs": [],
   "source": []
  },
  {
   "cell_type": "markdown",
   "metadata": {},
   "source": [
    "## ShareNet: Bayesian Variable Selection Generative Model\n",
    "### Set Up Regulator-Target Pairing Dictionary"
   ]
  },
  {
   "cell_type": "code",
   "execution_count": 22,
   "metadata": {},
   "outputs": [],
   "source": [
    "data_dir = './data/'\n",
    "\n",
    "target_inds = np.loadtxt(os.path.join(data_dir,'target_indices.txt'),dtype=int)\n",
    "\n",
    "# only consider first 50 target genes (smaller example)\n",
    "target_inds = target_inds[0:50]\n",
    "\n",
    "\n",
    "tf_inds = np.loadtxt(os.path.join(data_dir,'tf_indices.txt'),dtype=int)\n",
    "\n",
    "n_genes = len(set(target_inds.tolist() + tf_inds.tolist()))\n",
    "\n",
    "regtarget_dict = {target_ind: tf_inds for target_ind in target_inds}"
   ]
  },
  {
   "cell_type": "code",
   "execution_count": 23,
   "metadata": {},
   "outputs": [],
   "source": [
    "data_dir = './data/'\n",
    "\n",
    "celltype_data_dict = {}\n",
    "for celltype_no in range(1,C+1):\n",
    "    file_name = '{}.mtx'.format(celltype_no)\n",
    "    celltype_data_dict[celltype_no] = mmread(os.path.join(data_dir,file_name)).toarray()"
   ]
  },
  {
   "cell_type": "code",
   "execution_count": 24,
   "metadata": {},
   "outputs": [],
   "source": [
    "model = ShareNetGeneModel(celltype_data_dict,use_sharenet=True,regtarget_dict=regtarget_dict,\\\n",
    "                         verbose=True)"
   ]
  },
  {
   "cell_type": "code",
   "execution_count": 25,
   "metadata": {
    "scrolled": true
   },
   "outputs": [
    {
     "name": "stdout",
     "output_type": "stream",
     "text": [
      "GENE 1 CONVERGED (153 regulators): 200 iterations\n",
      "GENE 0 CONVERGED (153 regulators): 200 iterations\n",
      "GENE 2 CONVERGED (153 regulators): 200 iterations\n",
      "GENE 3 CONVERGED (153 regulators): 200 iterations\n",
      "GENE 7 CONVERGED (153 regulators): 200 iterationsGENE 6 CONVERGED (153 regulators): 200 iterations\n",
      "\n",
      "GENE 8 CONVERGED (153 regulators): 200 iterations\n",
      "GENE 4 CONVERGED (153 regulators): 200 iterations\n",
      "GENE 5 CONVERGED (153 regulators): 200 iterations\n",
      "GENE 11 CONVERGED (153 regulators): 200 iterations\n",
      "GENE 9 CONVERGED (153 regulators): 200 iterations\n",
      "GENE 12 CONVERGED (153 regulators): 200 iterations\n",
      "GENE 10 CONVERGED (153 regulators): 200 iterations\n",
      "GENE 15 CONVERGED (153 regulators): 200 iterations\n",
      "GENE 14 CONVERGED (153 regulators): 200 iterations\n",
      "GENE 13 CONVERGED (153 regulators): 200 iterations\n",
      "GENE 18 CONVERGED (153 regulators): 200 iterations\n",
      "GENE 16 CONVERGED (153 regulators): 200 iterations\n",
      "GENE 21 CONVERGED (153 regulators): 200 iterations\n",
      "GENE 19 CONVERGED (153 regulators): 200 iterationsGENE 17 CONVERGED (153 regulators): 200 iterations\n",
      "\n",
      "GENE 22 CONVERGED (153 regulators): 200 iterationsGENE 20 CONVERGED (153 regulators): 200 iterations\n",
      "\n",
      "GENE 24 CONVERGED (153 regulators): 200 iterations\n",
      "GENE 27 CONVERGED (153 regulators): 200 iterations\n",
      "GENE 26 CONVERGED (153 regulators): 200 iterations\n",
      "GENE 28 CONVERGED (153 regulators): 200 iterations\n",
      "GENE 23 CONVERGED (153 regulators): 200 iterations\n",
      "GENE 29 CONVERGED (153 regulators): 200 iterations\n",
      "GENE 30 CONVERGED (153 regulators): 200 iterations\n",
      "GENE 25 CONVERGED (153 regulators): 200 iterations\n",
      "GENE 31 CONVERGED (153 regulators): 200 iterations\n",
      "GENE 35 CONVERGED (153 regulators): 200 iterations\n",
      "GENE 34 CONVERGED (153 regulators): 200 iterationsGENE 36 CONVERGED (153 regulators): 200 iterations\n",
      "\n",
      "GENE 32 CONVERGED (153 regulators): 200 iterations\n",
      "GENE 38 CONVERGED (153 regulators): 200 iterations\n",
      "GENE 43 CONVERGED (153 regulators): 188 iterations\n",
      "GENE 33 CONVERGED (153 regulators): 200 iterations\n",
      "GENE 37 CONVERGED (153 regulators): 200 iterations\n",
      "GENE 39 CONVERGED (153 regulators): 200 iterations\n",
      "GENE 40 CONVERGED (153 regulators): 200 iterations\n",
      "GENE 42 CONVERGED (153 regulators): 200 iterations\n",
      "GENE 41 CONVERGED (153 regulators): 200 iterations\n",
      "GENE 44 CONVERGED (153 regulators): 200 iterations\n",
      "GENE 45 CONVERGED (153 regulators): 200 iterations\n",
      "GENE 46 CONVERGED (152 regulators): 200 iterations\n",
      "GENE 47 CONVERGED (153 regulators): 200 iterations\n",
      "GENE 48 CONVERGED (153 regulators): 200 iterations\n",
      "GENE 49 CONVERGED (153 regulators): 200 iterations\n",
      "GENE 0 CONVERGED (153 regulators): 200 iterations\n",
      "GENE 2 CONVERGED (153 regulators): 200 iterations\n",
      "GENE 1 CONVERGED (153 regulators): 200 iterations\n",
      "GENE 3 CONVERGED (153 regulators): 200 iterations\n",
      "GENE 5 CONVERGED (153 regulators): 200 iterations\n",
      "GENE 6 CONVERGED (153 regulators): 200 iterations\n",
      "GENE 7 CONVERGED (153 regulators): 200 iterations\n",
      "GENE 8 CONVERGED (153 regulators): 200 iterations\n",
      "GENE 9 CONVERGED (153 regulators): 200 iterations\n",
      "GENE 4 CONVERGED (153 regulators): 200 iterations\n",
      "GENE 10 CONVERGED (153 regulators): 200 iterations\n",
      "GENE 11 CONVERGED (153 regulators): 200 iterations\n",
      "GENE 13 CONVERGED (153 regulators): 200 iterations\n",
      "GENE 12 CONVERGED (153 regulators): 200 iterations\n",
      "GENE 15 CONVERGED (153 regulators): 200 iterations\n",
      "GENE 14 CONVERGED (153 regulators): 200 iterations\n",
      "GENE 16 CONVERGED (153 regulators): 200 iterations\n",
      "GENE 17 CONVERGED (153 regulators): 200 iterations\n",
      "GENE 20 CONVERGED (153 regulators): 200 iterations\n",
      "GENE 19 CONVERGED (153 regulators): 200 iterations\n",
      "GENE 22 CONVERGED (153 regulators): 200 iterationsGENE 21 CONVERGED (153 regulators): 200 iterations\n",
      "\n",
      "GENE 23 CONVERGED (153 regulators): 200 iterations\n",
      "GENE 18 CONVERGED (153 regulators): 200 iterationsGENE 25 CONVERGED (153 regulators): 200 iterations\n",
      "\n",
      "GENE 26 CONVERGED (153 regulators): 200 iterationsGENE 27 CONVERGED (153 regulators): 200 iterations\n",
      "\n",
      "GENE 29 CONVERGED (153 regulators): 200 iterations\n",
      "GENE 24 CONVERGED (153 regulators): 200 iterations\n",
      "GENE 31 CONVERGED (153 regulators): 200 iterations\n",
      "GENE 30 CONVERGED (153 regulators): 200 iterations\n",
      "GENE 28 CONVERGED (153 regulators): 200 iterations\n",
      "GENE 43 CONVERGED (153 regulators): 0 iterations\n",
      "GENE 32 CONVERGED (153 regulators): 200 iterations\n",
      "GENE 33 CONVERGED (153 regulators): 200 iterations\n",
      "GENE 36 CONVERGED (153 regulators): 200 iterationsGENE 35 CONVERGED (153 regulators): 200 iterations\n",
      "\n",
      "GENE 38 CONVERGED (153 regulators): 200 iterationsGENE 37 CONVERGED (153 regulators): 200 iterationsGENE 39 CONVERGED (153 regulators): 200 iterations\n",
      "\n",
      "\n",
      "GENE 34 CONVERGED (153 regulators): 200 iterations\n",
      "GENE 41 CONVERGED (153 regulators): 200 iterations\n",
      "GENE 42 CONVERGED (153 regulators): 200 iterationsGENE 40 CONVERGED (153 regulators): 200 iterations\n",
      "\n",
      "GENE 45 CONVERGED (153 regulators): 200 iterationsGENE 46 CONVERGED (152 regulators): 200 iterations\n",
      "\n",
      "GENE 44 CONVERGED (153 regulators): 200 iterations\n",
      "GENE 47 CONVERGED (153 regulators): 200 iterations\n",
      "GENE 49 CONVERGED (153 regulators): 200 iterations\n",
      "GENE 48 CONVERGED (153 regulators): 200 iterations\n"
     ]
    }
   ],
   "source": [
    "model.fit(n_processes=16)"
   ]
  },
  {
   "cell_type": "markdown",
   "metadata": {},
   "source": [
    "### Retrieve Learned Variational Parameters"
   ]
  },
  {
   "cell_type": "code",
   "execution_count": 26,
   "metadata": {
    "scrolled": true
   },
   "outputs": [
    {
     "data": {
      "text/plain": [
       "array([5.82071308e-03, 9.78742710e-03, 7.53675755e-03, 5.75370019e-03,\n",
       "       7.62821383e-03, 3.97458933e-03, 1.45617893e-03, 7.47084918e-03,\n",
       "       1.73451973e-02, 7.61567895e-03, 5.83256932e-04, 2.39306579e-03,\n",
       "       2.90667506e-03, 3.08470120e-03, 6.90377298e-03, 4.28115485e-03,\n",
       "       8.36001595e-03, 4.14182010e-03, 3.84595949e-03, 5.04988558e-03,\n",
       "       7.34279076e-03, 1.88901798e-02, 8.86918242e-03, 4.03467466e-03,\n",
       "       8.46055976e-03, 2.41245812e-03, 6.09148756e-03, 8.86701258e-03,\n",
       "       5.74564473e-03, 3.84420542e-03, 1.01263575e-02, 1.97550004e-02,\n",
       "       1.06970357e-02, 3.52873942e-02, 2.98932018e-03, 1.47001542e-02,\n",
       "       1.41691146e-03, 1.96272453e-03, 8.70380307e-03, 1.70188658e-02,\n",
       "       4.37569163e-03, 3.30204238e-03, 4.62815350e-03, 6.42921282e-03,\n",
       "       2.11819191e-03, 2.04888611e-03, 5.21239446e-04, 2.60057619e-03,\n",
       "       8.90209318e-04, 3.26532164e-03, 5.34284011e-03, 1.54780977e-03,\n",
       "       1.68351528e-03, 2.60515781e-03, 2.50586326e-03, 3.67670482e-03,\n",
       "       6.00239644e-03, 3.40571367e-03, 5.25640594e-03, 4.98049592e-03,\n",
       "       4.71698733e-03, 1.39289691e-03, 2.17163548e-03, 3.36038394e-03,\n",
       "       7.74737431e-03, 3.07871462e-03, 7.50648453e-03, 1.01435751e-02,\n",
       "       4.36477646e-03, 4.43746275e-03, 5.14571883e-03, 5.39363016e-03,\n",
       "       7.44398303e-03, 2.55315133e-03, 7.63287197e-03, 5.70863341e-03,\n",
       "       2.43536064e-02, 1.02589987e-02, 3.48655562e-03, 8.18790700e-03,\n",
       "       2.28032833e-02, 6.46194157e-03, 8.26772660e-03, 3.98852795e-03,\n",
       "       1.09481354e-02, 1.09976462e-03, 4.03604753e-03, 1.39167524e-03,\n",
       "       9.99649284e-01, 1.90591812e-02, 7.08904473e-03, 1.01872078e-02,\n",
       "       8.50872136e-03, 1.77016650e-03, 7.38710693e-03, 2.91352070e-03,\n",
       "       5.08193714e-03, 5.68487799e-03, 6.27794548e-03, 5.36683757e-03,\n",
       "       8.66677448e-03, 4.78229781e-03, 7.31605878e-03, 8.65128714e-03,\n",
       "       9.50508816e-03, 1.08533524e-02, 1.97569766e-03, 3.20916462e-03,\n",
       "       4.66946683e-03, 5.97437132e-03, 7.50972118e-03, 6.55121570e-03,\n",
       "       4.80106283e-03, 5.67356543e-03, 9.45454987e-03, 1.06849831e-02,\n",
       "       8.61547791e-03, 8.64716157e-03, 4.83408123e-03, 5.72222575e-03,\n",
       "       7.86490179e-03, 8.50377472e-03, 2.39283753e-03, 4.08588713e-03,\n",
       "       2.71577780e-03, 1.86106021e-03, 3.49547861e-03, 2.86225120e-03,\n",
       "       6.39819684e-03, 3.99804162e-03, 6.35213052e-03, 2.22775458e-03,\n",
       "       6.22863076e-03, 4.64847739e-03, 4.07714128e-03, 7.88530514e-03,\n",
       "       7.90524007e-03, 8.90840106e-03, 6.92425138e-03, 2.09143389e-03,\n",
       "       1.34046195e-03, 4.33956835e-02, 8.26296294e-03, 9.37067181e-03,\n",
       "       4.40883606e-03, 2.52514887e-03, 6.19081404e-03, 5.09263768e-03,\n",
       "       1.40023290e-02, 1.91335493e-03, 7.38644817e-03, 7.19603227e-03,\n",
       "       8.80516597e-03])"
      ]
     },
     "execution_count": 26,
     "metadata": {},
     "output_type": "execute_result"
    }
   ],
   "source": [
    "celltype_no = 1\n",
    "target_ind = target_inds[0]\n",
    "\n",
    "model.get_model_params('alpha',celltype_no,target_ind)"
   ]
  },
  {
   "cell_type": "code",
   "execution_count": 27,
   "metadata": {},
   "outputs": [
    {
     "data": {
      "text/plain": [
       "array([-0.00409026,  0.086911  , -0.07234921,  0.05800043, -0.07216249,\n",
       "        0.02927314,  0.00599972, -0.02237189,  0.1876135 , -0.07203979,\n",
       "        0.002709  ,  0.02748635,  0.02731317, -0.00338601,  0.01679741,\n",
       "       -0.03559959,  0.07972121,  0.04774695,  0.04229171, -0.05564634,\n",
       "       -0.06536474,  0.19832564,  0.06406087,  0.01698714, -0.04847487,\n",
       "        0.00997865,  0.06385688, -0.09971807,  0.03637801,  0.0443823 ,\n",
       "       -0.10051408,  0.17806551,  0.02262753,  0.23448179, -0.02111034,\n",
       "       -0.1714977 , -0.01187897,  0.01784941,  0.03533067,  0.14649504,\n",
       "        0.05052603,  0.01048001,  0.04254953, -0.02673388, -0.00385538,\n",
       "        0.00196756,  0.00176392, -0.01254203,  0.00582196, -0.02211406,\n",
       "        0.04625476,  0.00397816,  0.00241635,  0.02636967,  0.01601299,\n",
       "        0.03232129, -0.00720372,  0.03590444, -0.02060198,  0.03189016,\n",
       "       -0.02093297,  0.01156453, -0.00918666,  0.00305383, -0.04177244,\n",
       "        0.00415847, -0.07351349,  0.09144378,  0.04003444,  0.03929669,\n",
       "        0.02433364, -0.05307162,  0.08639149,  0.02908537,  0.01212693,\n",
       "        0.04612227,  0.25308767,  0.08636939, -0.02051285,  0.00681752,\n",
       "        0.20877822, -0.01816473,  0.06879249, -0.02740563,  0.12688749,\n",
       "        0.00927071,  0.04004022, -0.00711914,  0.07349091, -0.22382098,\n",
       "        0.0248352 ,  0.10027251,  0.06699138, -0.02008701, -0.04890005,\n",
       "        0.01625872, -0.05267192,  0.06458631, -0.07263247, -0.0203213 ,\n",
       "       -0.09615633, -0.04633747,  0.03665143, -0.06474376,  0.10440894,\n",
       "       -0.10717277,  0.00920477, -0.00704705, -0.04241746,  0.06890034,\n",
       "       -0.08719114, -0.07333697,  0.05271275, -0.06120348,  0.0129317 ,\n",
       "        0.11627888, -0.09281177,  0.09491354, -0.0242119 , -0.03913963,\n",
       "       -0.07367909,  0.07801136,  0.02755443, -0.01073832,  0.0312778 ,\n",
       "        0.00833949, -0.03575043,  0.00955339,  0.04131304, -0.04518387,\n",
       "        0.07323018,  0.02419775,  0.00706301,  0.03448962, -0.03566205,\n",
       "        0.04725556,  0.0699989 ,  0.1005875 ,  0.07126575, -0.00778301,\n",
       "        0.00453564,  0.30543628,  0.05155188, -0.07490826,  0.03087619,\n",
       "        0.02271905, -0.01720987,  0.05898791,  0.16365492,  0.02179017,\n",
       "        0.0349324 , -0.06226472,  0.05468498])"
      ]
     },
     "execution_count": 27,
     "metadata": {},
     "output_type": "execute_result"
    }
   ],
   "source": [
    "celltype_no = 1\n",
    "target_ind = target_inds[0]\n",
    "\n",
    "model.get_model_params('mu',celltype_no,target_ind)"
   ]
  },
  {
   "cell_type": "code",
   "execution_count": null,
   "metadata": {},
   "outputs": [],
   "source": []
  }
 ],
 "metadata": {
  "kernelspec": {
   "display_name": "Python 3",
   "language": "python",
   "name": "python3"
  },
  "language_info": {
   "codemirror_mode": {
    "name": "ipython",
    "version": 3
   },
   "file_extension": ".py",
   "mimetype": "text/x-python",
   "name": "python",
   "nbconvert_exporter": "python",
   "pygments_lexer": "ipython3",
   "version": "3.8.5"
  }
 },
 "nbformat": 4,
 "nbformat_minor": 4
}
